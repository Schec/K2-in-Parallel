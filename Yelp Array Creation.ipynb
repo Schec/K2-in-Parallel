{
 "metadata": {
  "name": ""
 },
 "nbformat": 3,
 "nbformat_minor": 0,
 "worksheets": [
  {
   "cells": [
    {
     "cell_type": "code",
     "collapsed": false,
     "input": [
      "%matplotlib inline\n",
      "from __future__ import division\n",
      "\n",
      "import pandas as pd\n",
      "import numpy as np\n",
      "import re\n",
      "import string\n",
      "import pickle\n",
      "from sklearn.cross_validation import train_test_split\n",
      "from sklearn.naive_bayes import MultinomialNB\n",
      "from sklearn.feature_extraction.text import CountVectorizer\n",
      "\n",
      "import matplotlib.pyplot as plt\n",
      "from matplotlib import rcParams\n",
      "import matplotlib.cm as cm\n",
      "import matplotlib as mpl\n",
      "\n",
      "#colorbrewer2 Dark2 qualitative color table\n",
      "dark2_colors = [(0.10588235294117647,0.6196078431372549, 0.4666666666666667),\n",
      "                (0.8509803921568627, 0.37254901960784315, 0.00784313725490196),\n",
      "                (0.4588235294117647, 0.4392156862745098, 0.7019607843137254),\n",
      "                (0.9058823529411765, 0.1607843137254902, 0.5411764705882353),\n",
      "                (0.4, 0.6509803921568628, 0.11764705882352941),\n",
      "                (0.9019607843137255, 0.6705882352941176, 0.00784313725490196),\n",
      "                (0.6509803921568628, 0.4627450980392157, 0.11372549019607843)]\n",
      "\n",
      "rcParams['figure.figsize'] = (15, 11)\n",
      "rcParams['figure.dpi'] = 150\n",
      "rcParams['axes.color_cycle'] = dark2_colors\n",
      "rcParams['lines.linewidth'] = 2\n",
      "rcParams['axes.facecolor'] = 'white'\n",
      "rcParams['font.size'] = 14\n",
      "rcParams['patch.edgecolor'] = 'white'\n",
      "rcParams['patch.facecolor'] = dark2_colors[0]\n",
      "rcParams['font.family'] = 'StixGeneral'"
     ],
     "language": "python",
     "metadata": {},
     "outputs": [],
     "prompt_number": 1
    },
    {
     "cell_type": "code",
     "collapsed": false,
     "input": [
      "train = pd.read_csv('D:/Kaggle/Yelp Recruiting Competition/train.csv')"
     ],
     "language": "python",
     "metadata": {},
     "outputs": [],
     "prompt_number": 2
    },
    {
     "cell_type": "code",
     "collapsed": false,
     "input": [
      "positive = train[train.stars==5]\n",
      "negative = train[train.stars==1]"
     ],
     "language": "python",
     "metadata": {},
     "outputs": [],
     "prompt_number": 3
    },
    {
     "cell_type": "code",
     "collapsed": false,
     "input": [
      "positive = positive.iloc[:100]\n",
      "negative = negative.iloc[:100]\n",
      "positive = positive[['text','stars']]\n",
      "negative = negative[['text','stars']]\n",
      "pos_reviews = list(positive.text)\n",
      "nega_reviews = list(negative.text)"
     ],
     "language": "python",
     "metadata": {},
     "outputs": [],
     "prompt_number": 4
    },
    {
     "cell_type": "code",
     "collapsed": false,
     "input": [
      "def clean(df):\n",
      "    temp_df = df.copy()\n",
      "    #REMOVING DIRTY THINGS\n",
      "    print 'Removing Dirty Stuff...'\n",
      "    for i,tweet in enumerate(temp_df.text):\n",
      "        #Remove hyperlinks\n",
      "        temp = re.sub(r'https?:\\/\\/.*\\/[a-zA-Z0-9]*', '', tweet)\n",
      "        #Remove quotes\n",
      "        temp = re.sub(r'&quot;|&amp&#39;', '', temp)\n",
      "        #Remove citations\n",
      "        temp = re.sub(r'@[a-zA-Z0-9]*', '', temp)\n",
      "        #Remove tickers\n",
      "        temp = re.sub(r'\\$[a-zA-Z0-9]*', '', temp)\n",
      "        #Remove numbers\n",
      "        temp = re.sub(r'[0-9]*','',temp)\n",
      "        temp_df.text.iloc[i] = temp\n",
      "        \n",
      "    #REMOVE PUNCTUATION\n",
      "    print 'Remove Punctuation'\n",
      "    temp_df.text = [filter(lambda x: x not in string.punctuation,tweet) for tweet in temp_df.text]\n",
      "    \n",
      "        \n",
      "    return temp_df "
     ],
     "language": "python",
     "metadata": {},
     "outputs": [],
     "prompt_number": 5
    },
    {
     "cell_type": "code",
     "collapsed": false,
     "input": [
      "pos_df = clean(positive)\n",
      "neg_df = clean(negative)"
     ],
     "language": "python",
     "metadata": {},
     "outputs": [
      {
       "output_type": "stream",
       "stream": "stdout",
       "text": [
        "Removing Dirty Stuff...\n",
        "Remove Punctuation"
       ]
      },
      {
       "output_type": "stream",
       "stream": "stdout",
       "text": [
        "\n",
        "Removing Dirty Stuff..."
       ]
      },
      {
       "output_type": "stream",
       "stream": "stdout",
       "text": [
        "\n",
        "Remove Punctuation"
       ]
      },
      {
       "output_type": "stream",
       "stream": "stdout",
       "text": [
        "\n"
       ]
      }
     ],
     "prompt_number": 6
    },
    {
     "cell_type": "code",
     "collapsed": false,
     "input": [
      "pos_df.stars = pos_df.stars.replace(5,1)\n",
      "neg_df.stars = neg_df.stars.replace(1,0)"
     ],
     "language": "python",
     "metadata": {},
     "outputs": [],
     "prompt_number": 7
    },
    {
     "cell_type": "code",
     "collapsed": false,
     "input": [
      "train_df = pd.concat([pos_df,neg_df])"
     ],
     "language": "python",
     "metadata": {},
     "outputs": [],
     "prompt_number": 8
    },
    {
     "cell_type": "code",
     "collapsed": false,
     "input": [
      "#TOKENIZE\n",
      "print 'Start Tokenizing Using Tf-Idf'\n",
      "vectorizer = CountVectorizer(min_df=10,stop_words='english',binary = True, max_features = 200)\n",
      "X = vectorizer.fit_transform(train_df.text)\n",
      "X = X.toarray()"
     ],
     "language": "python",
     "metadata": {},
     "outputs": [
      {
       "output_type": "stream",
       "stream": "stdout",
       "text": [
        "Start Tokenizing Using Tf-Idf\n"
       ]
      }
     ],
     "prompt_number": 13
    },
    {
     "cell_type": "code",
     "collapsed": false,
     "input": [
      "#np.savetxt('array_yelp.txt', X)"
     ],
     "language": "python",
     "metadata": {},
     "outputs": [],
     "prompt_number": 14
    },
    {
     "cell_type": "code",
     "collapsed": false,
     "input": [
      "#Naive Bayes\n",
      "clf = MultinomialNB(fit_prior=False)\n",
      "clf.fit(X, list(train_df.stars))\n",
      "#print len(train_df.stars)\n",
      "print 'Accuracy to beat =%f'% (sum(clf.predict(X)==train_df.stars)/len(train_df.stars))"
     ],
     "language": "python",
     "metadata": {},
     "outputs": [
      {
       "output_type": "stream",
       "stream": "stdout",
       "text": [
        "Accuracy to beat =0.925000\n"
       ]
      }
     ],
     "prompt_number": 24
    },
    {
     "cell_type": "code",
     "collapsed": false,
     "input": [
      "#Augmented Naive Bayes with K2-Graphical Structure\n",
      "parents = pickle.load(open('parents.txt'))\n",
      "features = vectorizer.get_feature_names()\n",
      "Counts = pd.DataFrame(X)\n",
      "Counts.columns = features\n",
      "\n",
      "#Dictionnary of (Key, Values) = (Word, Parents)\n",
      "d = {}\n",
      "for i,ele in enumerate(features):\n",
      "    d[ele] = parents[i]"
     ],
     "language": "python",
     "metadata": {},
     "outputs": [],
     "prompt_number": 47
    },
    {
     "cell_type": "code",
     "collapsed": false,
     "input": [
      "positive_data = Counts.iloc[:100]\n",
      "negative_data = Counts.iloc[100:]"
     ],
     "language": "python",
     "metadata": {},
     "outputs": []
    },
    {
     "cell_type": "code",
     "collapsed": false,
     "input": [
      "#Postive Probability\n",
      "Pos_proba = []\n",
      "for i, review in enumerate(train_df.text):\n",
      "    prob = 1\n",
      "    for j,ele in enumerate(Counts.iloc[i]):\n",
      "        if ele==1:\n",
      "            par = parents[j]\n",
      "            if len(par)==0:\n",
      "                prob *= sum(positive_data[features[j]])/len(positive_data.stars)\n",
      "            else:\n",
      "                temp = positive_data[positive_data[features[par[0]]]==1]\n",
      "                if len(temp.stars)>0:\n",
      "                    prob *= sum(temp[features[j]])/len(temp.stars)\n",
      "    Pos_proba.append(prob)\n",
      "                "
     ],
     "language": "python",
     "metadata": {},
     "outputs": [],
     "prompt_number": 52
    },
    {
     "cell_type": "code",
     "collapsed": false,
     "input": [
      "#Negative Probability\n",
      "Neg_proba = []\n",
      "for i, review in enumerate(train_df.text):\n",
      "    prob = 1\n",
      "    for j,ele in enumerate(Counts.iloc[i]):\n",
      "        if ele==1:\n",
      "            par = parents[j]\n",
      "            if len(par)==0:\n",
      "                prob *= sum(negative_data[features[j]])/len(negative_data.stars)\n",
      "            else:\n",
      "                temp = negative_data[negative_data[features[par[0]]]==1]\n",
      "                if len(temp.stars)>0:\n",
      "                    prob *= sum(temp[features[j]])/len(temp.stars)\n",
      "    Neg_proba.append(prob)"
     ],
     "language": "python",
     "metadata": {},
     "outputs": [],
     "prompt_number": 56
    },
    {
     "cell_type": "code",
     "collapsed": false,
     "input": [
      "Class = []\n",
      "for i, ele in enumerate(Pos_proba):\n",
      "    if ele>Neg_proba[i]:\n",
      "        Class.append(1)\n",
      "    else:\n",
      "        Class.append(0)"
     ],
     "language": "python",
     "metadata": {},
     "outputs": [],
     "prompt_number": 57
    },
    {
     "cell_type": "code",
     "collapsed": false,
     "input": [
      "sum(Class==train_df.stars)/len(train_df.stars)"
     ],
     "language": "python",
     "metadata": {},
     "outputs": [
      {
       "metadata": {},
       "output_type": "pyout",
       "prompt_number": 58,
       "text": [
        "0.66000000000000003"
       ]
      }
     ],
     "prompt_number": 58
    },
    {
     "cell_type": "code",
     "collapsed": false,
     "input": [],
     "language": "python",
     "metadata": {},
     "outputs": []
    }
   ],
   "metadata": {}
  }
 ]
}